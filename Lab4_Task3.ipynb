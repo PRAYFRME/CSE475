{
  "nbformat": 4,
  "nbformat_minor": 0,
  "metadata": {
    "interpreter": {
      "hash": "6708d01f9db07a34b131d6cc57f1c425f3a2f16f47a7a05fe95f7e4d9f44c47f"
    },
    "kernelspec": {
      "display_name": "Python 3.8.5 64-bit",
      "language": "python",
      "name": "python3"
    },
    "language_info": {
      "codemirror_mode": {
        "name": "ipython",
        "version": 3
      },
      "file_extension": ".py",
      "mimetype": "text/x-python",
      "name": "python",
      "nbconvert_exporter": "python",
      "pygments_lexer": "ipython3",
      "version": "3.8.5"
    },
    "orig_nbformat": 4,
    "colab": {
      "name": "Lab4_Task3.ipynb",
      "provenance": [],
      "collapsed_sections": [],
      "include_colab_link": true
    }
  },
  "cells": [
    {
      "cell_type": "markdown",
      "metadata": {
        "id": "view-in-github",
        "colab_type": "text"
      },
      "source": [
        "<a href=\"https://colab.research.google.com/github/PRAYFRME/CSE475/blob/main/Lab4_Task3.ipynb\" target=\"_parent\"><img src=\"https://colab.research.google.com/assets/colab-badge.svg\" alt=\"Open In Colab\"/></a>"
      ]
    },
    {
      "cell_type": "markdown",
      "metadata": {
        "id": "Be3BCHcLlNkR"
      },
      "source": [
        "**Tasks to do in the lab for the experiments:**\n",
        "1. Data acquisition\n",
        "2. Data Analysis:\n",
        "a. Missing data check and replace\n",
        "b. Filtering: row and column based on some criteria\n",
        "c. Transformation: perform any suitable conversion on any column\n",
        "d. component analysis: statistics actually\n",
        "e. Visualization: show histograms, scatter plots\n",
        "f. correlation analysis of the attributes from the data\n",
        "g. principal component analysis (optional)\n",
        "h. linear regression (optional)"
      ]
    },
    {
      "cell_type": "code",
      "metadata": {
        "id": "5LoD4xcslNkV"
      },
      "source": [
        "#%% 1. Data acquisition\n",
        "\n",
        "import pandas as pd\n",
        "import numpy as np\n",
        "import matplotlib.pyplot as plt\n",
        "\n",
        "df = pd.read_csv('strange.csv')"
      ],
      "execution_count": 1,
      "outputs": []
    },
    {
      "cell_type": "markdown",
      "metadata": {
        "id": "5IaodD0nlNkX"
      },
      "source": [
        "**2**. Data Analysis:\n",
        "a. Missing data check and replace\n",
        "b. Filtering: row and column based on some criteria\n",
        "c. Transformation: perform any suitable conversion on any column\n",
        "d. component analysis: statistics actually\n",
        "e. Visualization: show histograms, scatter plots\n",
        "f. correlation analysis of the attributes from the data\n",
        "g. principal component analysis (optional)\n",
        "h. linear regression (optional)"
      ]
    },
    {
      "cell_type": "code",
      "metadata": {
        "colab": {
          "base_uri": "https://localhost:8080/"
        },
        "id": "8N1TNK5vlNkX",
        "outputId": "07cafa70-0252-405b-d99b-a84fd97b3160"
      },
      "source": [
        "#%% a. Missing data check\n",
        "missing_val_count_by_column = (df.isnull().sum())\n",
        "print(missing_val_count_by_column[missing_val_count_by_column > 0])\n",
        "\n",
        "df.isnull().values.any()"
      ],
      "execution_count": 2,
      "outputs": [
        {
          "output_type": "stream",
          "name": "stdout",
          "text": [
            "Series([], dtype: int64)\n"
          ]
        },
        {
          "output_type": "execute_result",
          "data": {
            "text/plain": [
              "False"
            ]
          },
          "metadata": {},
          "execution_count": 2
        }
      ]
    },
    {
      "cell_type": "code",
      "metadata": {
        "id": "Or7DIWNzlNkY",
        "outputId": "5e6703a9-e2cc-43d0-ed7b-ef3f8af41293"
      },
      "source": [
        "df.isnull().sum()"
      ],
      "execution_count": null,
      "outputs": [
        {
          "data": {
            "text/plain": [
              "gender                         0\n",
              "race/ethnicity                 0\n",
              "parental level of education    0\n",
              "lunch                          0\n",
              "test preparation course        0\n",
              "math score                     0\n",
              "reading score                  0\n",
              "writing score                  0\n",
              "dtype: int64"
            ]
          },
          "execution_count": 102,
          "metadata": {},
          "output_type": "execute_result"
        }
      ]
    },
    {
      "cell_type": "code",
      "metadata": {
        "colab": {
          "base_uri": "https://localhost:8080/"
        },
        "id": "2lGUvtOYlNkY",
        "outputId": "398764bc-4a3f-4d45-c5db-4c87a99cf49c"
      },
      "source": [
        "#%% Filtering: row and column based on some criteria\n",
        "\n",
        "#Summarize the dataset\n",
        "print(df.keys())\n",
        "print(df.describe())\n",
        "df.info()\n",
        "\n",
        "#Take a look at the first few rows\n",
        "print(df.head())\n",
        "print('Number of rows:',df.shape[0])\n",
        "print('Number of columns:',df.shape[1])"
      ],
      "execution_count": 3,
      "outputs": [
        {
          "output_type": "stream",
          "name": "stdout",
          "text": [
            "Index(['gender', 'race/ethnicity', 'parental level of education', 'lunch',\n",
            "       'test preparation course', 'math score', 'reading score',\n",
            "       'writing score'],\n",
            "      dtype='object')\n",
            "       math score  reading score  writing score\n",
            "count  1000.00000    1000.000000    1000.000000\n",
            "mean     66.08900      69.169000      68.054000\n",
            "std      15.16308      14.600192      15.195657\n",
            "min       0.00000      17.000000      10.000000\n",
            "25%      57.00000      59.000000      57.750000\n",
            "50%      66.00000      70.000000      69.000000\n",
            "75%      77.00000      79.000000      79.000000\n",
            "max     100.00000     100.000000     100.000000\n",
            "<class 'pandas.core.frame.DataFrame'>\n",
            "RangeIndex: 1000 entries, 0 to 999\n",
            "Data columns (total 8 columns):\n",
            " #   Column                       Non-Null Count  Dtype \n",
            "---  ------                       --------------  ----- \n",
            " 0   gender                       1000 non-null   object\n",
            " 1   race/ethnicity               1000 non-null   object\n",
            " 2   parental level of education  1000 non-null   object\n",
            " 3   lunch                        1000 non-null   object\n",
            " 4   test preparation course      1000 non-null   object\n",
            " 5   math score                   1000 non-null   int64 \n",
            " 6   reading score                1000 non-null   int64 \n",
            " 7   writing score                1000 non-null   int64 \n",
            "dtypes: int64(3), object(5)\n",
            "memory usage: 62.6+ KB\n",
            "   gender race/ethnicity  ... reading score writing score\n",
            "0  female        group B  ...            72            74\n",
            "1  female        group C  ...            90            88\n",
            "2  female        group B  ...            95            93\n",
            "3    male        group A  ...            57            44\n",
            "4    male        group C  ...            78            75\n",
            "\n",
            "[5 rows x 8 columns]\n",
            "Number of rows: 1000\n",
            "Number of columns: 8\n"
          ]
        }
      ]
    },
    {
      "cell_type": "code",
      "metadata": {
        "colab": {
          "base_uri": "https://localhost:8080/"
        },
        "id": "3pnpJ39ilNkZ",
        "outputId": "9e5091ae-6095-4396-8828-f3d8c0cbc845"
      },
      "source": [
        "print('Summary of gender:',df['gender'].describe())\n",
        "print('Summary of race/ethnicity:',df['race/ethnicity'].describe())\n",
        "print('Summary of parental level of education:',df['parental level of education'].describe())\n",
        "print('Summary of lunch:',df['lunch'].describe())\n",
        "print('Summary of test preparation course:',df['test preparation course'].describe())\n",
        "print('Summary of math score:',df['math score'].describe())\n",
        "print('Summary of reading score:',df['reading score'].describe())\n",
        "print('Summary of writing score:',df['writing score'].describe())"
      ],
      "execution_count": 4,
      "outputs": [
        {
          "output_type": "stream",
          "name": "stdout",
          "text": [
            "Summary of gender: count       1000\n",
            "unique         2\n",
            "top       female\n",
            "freq         518\n",
            "Name: gender, dtype: object\n",
            "Summary of race/ethnicity: count        1000\n",
            "unique          5\n",
            "top       group C\n",
            "freq          319\n",
            "Name: race/ethnicity, dtype: object\n",
            "Summary of parental level of education: count             1000\n",
            "unique               6\n",
            "top       some college\n",
            "freq               226\n",
            "Name: parental level of education, dtype: object\n",
            "Summary of lunch: count         1000\n",
            "unique           2\n",
            "top       standard\n",
            "freq           645\n",
            "Name: lunch, dtype: object\n",
            "Summary of test preparation course: count     1000\n",
            "unique       2\n",
            "top       none\n",
            "freq       642\n",
            "Name: test preparation course, dtype: object\n",
            "Summary of math score: count    1000.00000\n",
            "mean       66.08900\n",
            "std        15.16308\n",
            "min         0.00000\n",
            "25%        57.00000\n",
            "50%        66.00000\n",
            "75%        77.00000\n",
            "max       100.00000\n",
            "Name: math score, dtype: float64\n",
            "Summary of reading score: count    1000.000000\n",
            "mean       69.169000\n",
            "std        14.600192\n",
            "min        17.000000\n",
            "25%        59.000000\n",
            "50%        70.000000\n",
            "75%        79.000000\n",
            "max       100.000000\n",
            "Name: reading score, dtype: float64\n",
            "Summary of writing score: count    1000.000000\n",
            "mean       68.054000\n",
            "std        15.195657\n",
            "min        10.000000\n",
            "25%        57.750000\n",
            "50%        69.000000\n",
            "75%        79.000000\n",
            "max       100.000000\n",
            "Name: writing score, dtype: float64\n"
          ]
        }
      ]
    },
    {
      "cell_type": "code",
      "metadata": {
        "colab": {
          "base_uri": "https://localhost:8080/"
        },
        "id": "PeNQV8eVlNka",
        "outputId": "e820aa7c-baf3-40de-f151-f3358494cd6f"
      },
      "source": [
        "# Import label encoder \n",
        "from sklearn import preprocessing\n",
        "# label_encoder object knows how to understand word labels. \n",
        "label_encoder = preprocessing.LabelEncoder()\n",
        "# Encode labels in column 'gender'. \n",
        "df['gender']= label_encoder.fit_transform(df['gender']) \n",
        "print(df.head())"
      ],
      "execution_count": 5,
      "outputs": [
        {
          "output_type": "stream",
          "name": "stdout",
          "text": [
            "   gender race/ethnicity  ... reading score writing score\n",
            "0       0        group B  ...            72            74\n",
            "1       0        group C  ...            90            88\n",
            "2       0        group B  ...            95            93\n",
            "3       1        group A  ...            57            44\n",
            "4       1        group C  ...            78            75\n",
            "\n",
            "[5 rows x 8 columns]\n"
          ]
        }
      ]
    },
    {
      "cell_type": "code",
      "metadata": {
        "colab": {
          "base_uri": "https://localhost:8080/",
          "height": 441
        },
        "id": "Ee8NvXpylNkb",
        "outputId": "350bfe71-4201-4dd2-f02b-8e332bbdeece"
      },
      "source": [
        "#%% MinMax Scaler\n",
        "\n",
        "df_scaled = df.copy()\n",
        "col_names = ['math score', 'reading score', 'writing score']\n",
        "features = df_scaled[col_names]\n",
        "\n",
        "\n",
        "from sklearn.preprocessing import MinMaxScaler\n",
        "scaler = MinMaxScaler()\n",
        "\n",
        "df_scaled[col_names] = scaler.fit_transform(features.values)\n",
        "\n",
        "\n",
        "from sklearn.preprocessing import MinMaxScaler\n",
        "scaler = MinMaxScaler(feature_range=(60, 65))\n",
        "\n",
        "df_scaled[col_names] = scaler.fit_transform(features.values)\n",
        "df_scaled"
      ],
      "execution_count": 8,
      "outputs": [
        {
          "output_type": "execute_result",
          "data": {
            "text/html": [
              "<div>\n",
              "<style scoped>\n",
              "    .dataframe tbody tr th:only-of-type {\n",
              "        vertical-align: middle;\n",
              "    }\n",
              "\n",
              "    .dataframe tbody tr th {\n",
              "        vertical-align: top;\n",
              "    }\n",
              "\n",
              "    .dataframe thead th {\n",
              "        text-align: right;\n",
              "    }\n",
              "</style>\n",
              "<table border=\"1\" class=\"dataframe\">\n",
              "  <thead>\n",
              "    <tr style=\"text-align: right;\">\n",
              "      <th></th>\n",
              "      <th>gender</th>\n",
              "      <th>race/ethnicity</th>\n",
              "      <th>parental level of education</th>\n",
              "      <th>lunch</th>\n",
              "      <th>test preparation course</th>\n",
              "      <th>math score</th>\n",
              "      <th>reading score</th>\n",
              "      <th>writing score</th>\n",
              "    </tr>\n",
              "  </thead>\n",
              "  <tbody>\n",
              "    <tr>\n",
              "      <th>0</th>\n",
              "      <td>0</td>\n",
              "      <td>group B</td>\n",
              "      <td>bachelor's degree</td>\n",
              "      <td>standard</td>\n",
              "      <td>none</td>\n",
              "      <td>63.60</td>\n",
              "      <td>63.313253</td>\n",
              "      <td>63.555556</td>\n",
              "    </tr>\n",
              "    <tr>\n",
              "      <th>1</th>\n",
              "      <td>0</td>\n",
              "      <td>group C</td>\n",
              "      <td>some college</td>\n",
              "      <td>standard</td>\n",
              "      <td>completed</td>\n",
              "      <td>63.45</td>\n",
              "      <td>64.397590</td>\n",
              "      <td>64.333333</td>\n",
              "    </tr>\n",
              "    <tr>\n",
              "      <th>2</th>\n",
              "      <td>0</td>\n",
              "      <td>group B</td>\n",
              "      <td>master's degree</td>\n",
              "      <td>standard</td>\n",
              "      <td>none</td>\n",
              "      <td>64.50</td>\n",
              "      <td>64.698795</td>\n",
              "      <td>64.611111</td>\n",
              "    </tr>\n",
              "    <tr>\n",
              "      <th>3</th>\n",
              "      <td>1</td>\n",
              "      <td>group A</td>\n",
              "      <td>associate's degree</td>\n",
              "      <td>free/reduced</td>\n",
              "      <td>none</td>\n",
              "      <td>62.35</td>\n",
              "      <td>62.409639</td>\n",
              "      <td>61.888889</td>\n",
              "    </tr>\n",
              "    <tr>\n",
              "      <th>4</th>\n",
              "      <td>1</td>\n",
              "      <td>group C</td>\n",
              "      <td>some college</td>\n",
              "      <td>standard</td>\n",
              "      <td>none</td>\n",
              "      <td>63.80</td>\n",
              "      <td>63.674699</td>\n",
              "      <td>63.611111</td>\n",
              "    </tr>\n",
              "    <tr>\n",
              "      <th>...</th>\n",
              "      <td>...</td>\n",
              "      <td>...</td>\n",
              "      <td>...</td>\n",
              "      <td>...</td>\n",
              "      <td>...</td>\n",
              "      <td>...</td>\n",
              "      <td>...</td>\n",
              "      <td>...</td>\n",
              "    </tr>\n",
              "    <tr>\n",
              "      <th>995</th>\n",
              "      <td>0</td>\n",
              "      <td>group E</td>\n",
              "      <td>master's degree</td>\n",
              "      <td>standard</td>\n",
              "      <td>completed</td>\n",
              "      <td>64.40</td>\n",
              "      <td>64.939759</td>\n",
              "      <td>64.722222</td>\n",
              "    </tr>\n",
              "    <tr>\n",
              "      <th>996</th>\n",
              "      <td>1</td>\n",
              "      <td>group C</td>\n",
              "      <td>high school</td>\n",
              "      <td>free/reduced</td>\n",
              "      <td>none</td>\n",
              "      <td>63.10</td>\n",
              "      <td>62.289157</td>\n",
              "      <td>62.500000</td>\n",
              "    </tr>\n",
              "    <tr>\n",
              "      <th>997</th>\n",
              "      <td>0</td>\n",
              "      <td>group C</td>\n",
              "      <td>high school</td>\n",
              "      <td>free/reduced</td>\n",
              "      <td>completed</td>\n",
              "      <td>62.95</td>\n",
              "      <td>63.253012</td>\n",
              "      <td>63.055556</td>\n",
              "    </tr>\n",
              "    <tr>\n",
              "      <th>998</th>\n",
              "      <td>0</td>\n",
              "      <td>group D</td>\n",
              "      <td>some college</td>\n",
              "      <td>standard</td>\n",
              "      <td>completed</td>\n",
              "      <td>63.40</td>\n",
              "      <td>63.674699</td>\n",
              "      <td>63.722222</td>\n",
              "    </tr>\n",
              "    <tr>\n",
              "      <th>999</th>\n",
              "      <td>0</td>\n",
              "      <td>group D</td>\n",
              "      <td>some college</td>\n",
              "      <td>free/reduced</td>\n",
              "      <td>none</td>\n",
              "      <td>63.85</td>\n",
              "      <td>64.156627</td>\n",
              "      <td>64.222222</td>\n",
              "    </tr>\n",
              "  </tbody>\n",
              "</table>\n",
              "<p>1000 rows × 8 columns</p>\n",
              "</div>"
            ],
            "text/plain": [
              "     gender race/ethnicity  ... reading score writing score\n",
              "0         0        group B  ...     63.313253     63.555556\n",
              "1         0        group C  ...     64.397590     64.333333\n",
              "2         0        group B  ...     64.698795     64.611111\n",
              "3         1        group A  ...     62.409639     61.888889\n",
              "4         1        group C  ...     63.674699     63.611111\n",
              "..      ...            ...  ...           ...           ...\n",
              "995       0        group E  ...     64.939759     64.722222\n",
              "996       1        group C  ...     62.289157     62.500000\n",
              "997       0        group C  ...     63.253012     63.055556\n",
              "998       0        group D  ...     63.674699     63.722222\n",
              "999       0        group D  ...     64.156627     64.222222\n",
              "\n",
              "[1000 rows x 8 columns]"
            ]
          },
          "metadata": {},
          "execution_count": 8
        }
      ]
    },
    {
      "cell_type": "code",
      "metadata": {
        "colab": {
          "base_uri": "https://localhost:8080/"
        },
        "id": "Oj2eQ6Bfljc5",
        "outputId": "11b87cc0-de7f-43c0-c757-144e980574cc"
      },
      "source": [
        "print(df_scaled)"
      ],
      "execution_count": 9,
      "outputs": [
        {
          "output_type": "stream",
          "name": "stdout",
          "text": [
            "     gender race/ethnicity  ... reading score writing score\n",
            "0         0        group B  ...     63.313253     63.555556\n",
            "1         0        group C  ...     64.397590     64.333333\n",
            "2         0        group B  ...     64.698795     64.611111\n",
            "3         1        group A  ...     62.409639     61.888889\n",
            "4         1        group C  ...     63.674699     63.611111\n",
            "..      ...            ...  ...           ...           ...\n",
            "995       0        group E  ...     64.939759     64.722222\n",
            "996       1        group C  ...     62.289157     62.500000\n",
            "997       0        group C  ...     63.253012     63.055556\n",
            "998       0        group D  ...     63.674699     63.722222\n",
            "999       0        group D  ...     64.156627     64.222222\n",
            "\n",
            "[1000 rows x 8 columns]\n"
          ]
        }
      ]
    },
    {
      "cell_type": "code",
      "metadata": {
        "colab": {
          "base_uri": "https://localhost:8080/",
          "height": 300
        },
        "id": "T1T9lj7mlNkb",
        "outputId": "136f655a-3f73-425e-ea14-ca43a2756f15"
      },
      "source": [
        "#%% Standard Scaler\n",
        "\n",
        "from sklearn.preprocessing import StandardScaler\n",
        "scaler = StandardScaler()\n",
        "\n",
        "df_scaled[col_names] = scaler.fit_transform(features.values)\n",
        "df_scaled\n",
        "\n",
        "df_scaled.describe()"
      ],
      "execution_count": 10,
      "outputs": [
        {
          "output_type": "execute_result",
          "data": {
            "text/html": [
              "<div>\n",
              "<style scoped>\n",
              "    .dataframe tbody tr th:only-of-type {\n",
              "        vertical-align: middle;\n",
              "    }\n",
              "\n",
              "    .dataframe tbody tr th {\n",
              "        vertical-align: top;\n",
              "    }\n",
              "\n",
              "    .dataframe thead th {\n",
              "        text-align: right;\n",
              "    }\n",
              "</style>\n",
              "<table border=\"1\" class=\"dataframe\">\n",
              "  <thead>\n",
              "    <tr style=\"text-align: right;\">\n",
              "      <th></th>\n",
              "      <th>gender</th>\n",
              "      <th>math score</th>\n",
              "      <th>reading score</th>\n",
              "      <th>writing score</th>\n",
              "    </tr>\n",
              "  </thead>\n",
              "  <tbody>\n",
              "    <tr>\n",
              "      <th>count</th>\n",
              "      <td>1000.000000</td>\n",
              "      <td>1.000000e+03</td>\n",
              "      <td>1.000000e+03</td>\n",
              "      <td>1.000000e+03</td>\n",
              "    </tr>\n",
              "    <tr>\n",
              "      <th>mean</th>\n",
              "      <td>0.482000</td>\n",
              "      <td>9.303669e-17</td>\n",
              "      <td>2.096101e-16</td>\n",
              "      <td>-7.904788e-17</td>\n",
              "    </tr>\n",
              "    <tr>\n",
              "      <th>std</th>\n",
              "      <td>0.499926</td>\n",
              "      <td>1.000500e+00</td>\n",
              "      <td>1.000500e+00</td>\n",
              "      <td>1.000500e+00</td>\n",
              "    </tr>\n",
              "    <tr>\n",
              "      <th>min</th>\n",
              "      <td>0.000000</td>\n",
              "      <td>-4.360728e+00</td>\n",
              "      <td>-3.574960e+00</td>\n",
              "      <td>-3.822345e+00</td>\n",
              "    </tr>\n",
              "    <tr>\n",
              "      <th>25%</th>\n",
              "      <td>0.000000</td>\n",
              "      <td>-5.997164e-01</td>\n",
              "      <td>-6.968462e-01</td>\n",
              "      <td>-6.784278e-01</td>\n",
              "    </tr>\n",
              "    <tr>\n",
              "      <th>50%</th>\n",
              "      <td>0.000000</td>\n",
              "      <td>-5.872457e-03</td>\n",
              "      <td>5.694554e-02</td>\n",
              "      <td>6.228578e-02</td>\n",
              "    </tr>\n",
              "    <tr>\n",
              "      <th>75%</th>\n",
              "      <td>1.000000</td>\n",
              "      <td>7.199368e-01</td>\n",
              "      <td>6.736842e-01</td>\n",
              "      <td>7.206978e-01</td>\n",
              "    </tr>\n",
              "    <tr>\n",
              "      <th>max</th>\n",
              "      <td>1.000000</td>\n",
              "      <td>2.237538e+00</td>\n",
              "      <td>2.112741e+00</td>\n",
              "      <td>2.103363e+00</td>\n",
              "    </tr>\n",
              "  </tbody>\n",
              "</table>\n",
              "</div>"
            ],
            "text/plain": [
              "            gender    math score  reading score  writing score\n",
              "count  1000.000000  1.000000e+03   1.000000e+03   1.000000e+03\n",
              "mean      0.482000  9.303669e-17   2.096101e-16  -7.904788e-17\n",
              "std       0.499926  1.000500e+00   1.000500e+00   1.000500e+00\n",
              "min       0.000000 -4.360728e+00  -3.574960e+00  -3.822345e+00\n",
              "25%       0.000000 -5.997164e-01  -6.968462e-01  -6.784278e-01\n",
              "50%       0.000000 -5.872457e-03   5.694554e-02   6.228578e-02\n",
              "75%       1.000000  7.199368e-01   6.736842e-01   7.206978e-01\n",
              "max       1.000000  2.237538e+00   2.112741e+00   2.103363e+00"
            ]
          },
          "metadata": {},
          "execution_count": 10
        }
      ]
    },
    {
      "cell_type": "code",
      "metadata": {
        "colab": {
          "base_uri": "https://localhost:8080/"
        },
        "id": "5ytz4N6blNkc",
        "outputId": "2fb664a7-991e-445e-f19a-8f6ff79275cb"
      },
      "source": [
        "#%% c. Transformation: perform any suitable conversion on any column\n",
        "from sklearn.compose import ColumnTransformer\n",
        "from sklearn.preprocessing import OneHotEncoder\n",
        "\n",
        "#from sklearn.preprocessing import ColumnTransformer, OneHotEncoder\n",
        "transformer = ColumnTransformer(transformers=[('gender', OneHotEncoder(), [0])])\n",
        "print(df.head())"
      ],
      "execution_count": 11,
      "outputs": [
        {
          "output_type": "stream",
          "name": "stdout",
          "text": [
            "   gender race/ethnicity  ... reading score writing score\n",
            "0       0        group B  ...            72            74\n",
            "1       0        group C  ...            90            88\n",
            "2       0        group B  ...            95            93\n",
            "3       1        group A  ...            57            44\n",
            "4       1        group C  ...            78            75\n",
            "\n",
            "[5 rows x 8 columns]\n"
          ]
        }
      ]
    },
    {
      "cell_type": "code",
      "metadata": {
        "colab": {
          "base_uri": "https://localhost:8080/"
        },
        "id": "lRNMJusElNkd",
        "outputId": "bc289ecc-5184-43d3-c58f-8a2c6fbf7a62"
      },
      "source": [
        "print(df[['math score', 'reading score', 'writing score','gender']].mean())\n",
        "\n",
        "print(df[['math score', 'reading score', 'writing score', 'gender']].median())\n",
        "\n",
        "print(df[['math score', 'reading score', 'writing score', 'gender']].std())\n",
        "\n",
        "print(df[['math score', 'reading score', 'writing score', 'gender']].var())"
      ],
      "execution_count": 12,
      "outputs": [
        {
          "output_type": "stream",
          "name": "stdout",
          "text": [
            "math score       66.089\n",
            "reading score    69.169\n",
            "writing score    68.054\n",
            "gender            0.482\n",
            "dtype: float64\n",
            "math score       66.0\n",
            "reading score    70.0\n",
            "writing score    69.0\n",
            "gender            0.0\n",
            "dtype: float64\n",
            "math score       15.163080\n",
            "reading score    14.600192\n",
            "writing score    15.195657\n",
            "gender            0.499926\n",
            "dtype: float64\n",
            "math score       229.918998\n",
            "reading score    213.165605\n",
            "writing score    230.907992\n",
            "gender             0.249926\n",
            "dtype: float64\n"
          ]
        }
      ]
    },
    {
      "cell_type": "code",
      "metadata": {
        "colab": {
          "base_uri": "https://localhost:8080/"
        },
        "id": "j3yW6U0vlNkd",
        "outputId": "1042cd31-cc64-4b9e-9b80-028a64a379bc"
      },
      "source": [
        "#%% d. component analysis: statistics actually\n",
        "df1=df[['math score','reading score','writing score']]\n",
        "print( \"variety mean: \",df1.mean() )\n",
        "print(\"variety median: \",df1.median())\n",
        "print(\"1st quartile: \",df1.quantile(0.25) )\n",
        "print(\"2nd quartile: \",df1.quantile(0.50) )\n",
        "print(\"3rd quartile: \",df1.quantile(0.75))\n",
        "print(\"variety standard daviance: \",df1.std() )\n",
        "print(\"variety daviance: \",df1.var() )\n",
        "print(\"variety max: \",df1.max() )\n",
        "print(\"variety min: \",df1.min())\n",
        "print(\"variety skew: \",df1.skew() )\n",
        "print(\"variety curtosis: \",df1.kurt())"
      ],
      "execution_count": 13,
      "outputs": [
        {
          "output_type": "stream",
          "name": "stdout",
          "text": [
            "variety mean:  math score       66.089\n",
            "reading score    69.169\n",
            "writing score    68.054\n",
            "dtype: float64\n",
            "variety median:  math score       66.0\n",
            "reading score    70.0\n",
            "writing score    69.0\n",
            "dtype: float64\n",
            "1st quartile:  math score       57.00\n",
            "reading score    59.00\n",
            "writing score    57.75\n",
            "Name: 0.25, dtype: float64\n",
            "2nd quartile:  math score       66.0\n",
            "reading score    70.0\n",
            "writing score    69.0\n",
            "Name: 0.5, dtype: float64\n",
            "3rd quartile:  math score       77.0\n",
            "reading score    79.0\n",
            "writing score    79.0\n",
            "Name: 0.75, dtype: float64\n",
            "variety standard daviance:  math score       15.163080\n",
            "reading score    14.600192\n",
            "writing score    15.195657\n",
            "dtype: float64\n",
            "variety daviance:  math score       229.918998\n",
            "reading score    213.165605\n",
            "writing score    230.907992\n",
            "dtype: float64\n",
            "variety max:  math score       100\n",
            "reading score    100\n",
            "writing score    100\n",
            "dtype: int64\n",
            "variety min:  math score        0\n",
            "reading score    17\n",
            "writing score    10\n",
            "dtype: int64\n",
            "variety skew:  math score      -0.278935\n",
            "reading score   -0.259105\n",
            "writing score   -0.289444\n",
            "dtype: float64\n",
            "variety curtosis:  math score       0.274964\n",
            "reading score   -0.068265\n",
            "writing score   -0.033365\n",
            "dtype: float64\n"
          ]
        }
      ]
    },
    {
      "cell_type": "code",
      "metadata": {
        "colab": {
          "base_uri": "https://localhost:8080/",
          "height": 1000
        },
        "id": "j0wmxON9lNke",
        "outputId": "7aa64442-e438-41df-d979-7cff96636318"
      },
      "source": [
        "#%% e.Visualization: show histograms, scatter plots\n",
        "df.hist(column = ['math score'])\n",
        "df.hist(column = ['reading score'])\n",
        "df.hist(column = ['writing score'])\n",
        "df.plot.scatter(y=['math score'], x=['writing score'])\n",
        "plt.show()"
      ],
      "execution_count": 14,
      "outputs": [
        {
          "output_type": "display_data",
          "data": {
            "image/png": "[encoded data removed]",
            "text/plain": [
              "<Figure size 432x288 with 1 Axes>"
            ]
          },
          "metadata": {
            "needs_background": "light"
          }
        },
        {
          "output_type": "display_data",
          "data": {
            "image/png": "[encoded data removed]",
            "text/plain": [
              "<Figure size 432x288 with 1 Axes>"
            ]
          },
          "metadata": {
            "needs_background": "light"
          }
        },
        {
          "output_type": "display_data",
          "data": {
            "image/png": "[encoded data removed]",
            "text/plain": [
              "<Figure size 432x288 with 1 Axes>"
            ]
          },
          "metadata": {
            "needs_background": "light"
          }
        },
        {
          "output_type": "display_data",
          "data": {
            "image/png": "[encoded data removed]",
            "text/plain": [
              "<Figure size 432x288 with 1 Axes>"
            ]
          },
          "metadata": {
            "needs_background": "light"
          }
        }
      ]
    },
    {
      "cell_type": "markdown",
      "metadata": {
        "id": "WqhJqVGYlNke"
      },
      "source": [
        "def lab04_Task3_2018_2_60_079():\n",
        "    print(df.hist(column=['math score']))\n",
        "    print(df.corr())\n",
        "    print(\"Kurtusis:\")\n",
        "    kurtusis=df['math score'].kurtosis()\n",
        "    skew=df['math score'].skew()\n",
        "    print(kurtusis)\n",
        "    print(\"Skewness:\")\n",
        "    print(skew)\n",
        "    if skew < 0:\n",
        "        print(\"Right Skew\")\n",
        "    elif skew == 0:\n",
        "        print(\"Normal Distribution\")\n",
        "    else:\n",
        "        print(\"Left Skew\")\n",
        "    if kurtusis>3:\n",
        "        print(\"Leptokurtic\")\n",
        "    elif kurtusis<3:\n",
        "        print(\"Platykurtic\")\n",
        "    else:\n",
        "        print(\"Mesokurtic\")\n",
        "lab04_Task3_2018_2_60_079()"
      ]
    },
    {
      "cell_type": "markdown",
      "metadata": {
        "id": "75qpKIu3lNke"
      },
      "source": [
        "def lab04_Task3_2018_2_60_079():\n",
        "    print(df.hist(column=['writing score']))\n",
        "    print(df.corr())\n",
        "    print(\"Kurtusis:\")\n",
        "    kurtusis=df['writing score'].kurtosis()\n",
        "    skew=df['writing score'].skew()\n",
        "    print(kurtusis)\n",
        "    print(\"Skewness:\")\n",
        "    print(skew)\n",
        "    if skew < 0:\n",
        "        print(\"Right Skew\")\n",
        "    elif skew == 0:\n",
        "        print(\"Normal Distribution\")\n",
        "    else:\n",
        "        print(\"Left Skew\")\n",
        "    if kurtusis>3:\n",
        "        print(\"Leptokurtic\")\n",
        "    elif kurtusis<3:\n",
        "        print(\"Platykurtic\")\n",
        "    else:\n",
        "        print(\"Mesokurtic\")\n",
        "lab04_Task3_2018_2_60_079()"
      ]
    },
    {
      "cell_type": "markdown",
      "metadata": {
        "id": "Tc7Xa2iklNkf"
      },
      "source": [
        "def lab04_Task3_2018_2_60_079():\n",
        "    print(df.hist(column=['reading score']))\n",
        "    print(df.corr())\n",
        "    print(\"Kurtusis:\")\n",
        "    kurtusis=df['reading score'].kurtosis()\n",
        "    skew=df['reading score'].skew()\n",
        "    print(kurtusis)\n",
        "    print(\"Skewness:\")\n",
        "    print(skew)\n",
        "    if skew < 0:\n",
        "        print(\"Right Skew\")\n",
        "    elif skew == 0:\n",
        "        print(\"Normal Distribution\")\n",
        "    else:\n",
        "        print(\"Left Skew\")\n",
        "    if kurtusis>3:\n",
        "        print(\"Leptokurtic\")\n",
        "    elif kurtusis<3:\n",
        "        print(\"Platykurtic\")\n",
        "    else:\n",
        "        print(\"Mesokurtic\")\n",
        "lab04_Task3_2018_2_60_079()"
      ]
    },
    {
      "cell_type": "markdown",
      "metadata": {
        "id": "T-LS3JVslNkf"
      },
      "source": [
        "def lab04_Task3_2018_2_60_079():\n",
        "    print(df.hist(column=['gender']))\n",
        "    print(df.corr())\n",
        "    print(\"Kurtusis:\")\n",
        "    kurtusis=df['gender'].kurtosis()\n",
        "    skew=df['gender'].skew()\n",
        "    print(kurtusis)\n",
        "    print(\"Skewness:\")\n",
        "    print(skew)\n",
        "    if skew < 0:\n",
        "        print(\"Right Skew\")\n",
        "    elif skew == 0:\n",
        "        print(\"Normal Distribution\")\n",
        "    else:\n",
        "        print(\"Left Skew\")\n",
        "    if kurtusis>3:\n",
        "        print(\"Leptokurtic\")\n",
        "    elif kurtusis<3:\n",
        "        print(\"Platykurtic\")\n",
        "    else:\n",
        "        print(\"Mesokurtic\")\n",
        "lab04_Task3_2018_2_60_079()"
      ]
    },
    {
      "cell_type": "markdown",
      "metadata": {
        "id": "5pZp1s8QlNkf"
      },
      "source": [
        "def lab04_Task6_2018_2_60_079():\n",
        "    df1 = df.query('gender == 0')\n",
        "    df2= df.query('gender == 1')\n",
        "\n",
        "    total = len(df)\n",
        "    check1 = len(df1)\n",
        "    check2 = len(df2)\n",
        "\n",
        "    print(\"Non-Fraudulent:\",(check1/total*100))\n",
        "    print(\"Fraudulent:\",(check2/total*100))\n",
        "lab04_Task6_2018_2_60_079()"
      ]
    },
    {
      "cell_type": "markdown",
      "metadata": {
        "id": "qbjOQ_bflNkf"
      },
      "source": [
        "def lab04_Task7_2018_2_60_079():\n",
        "    df['math score'].value_counts().plot(kind='hist')\n",
        "lab04_Task7_2018_2_60_079()"
      ]
    },
    {
      "cell_type": "markdown",
      "metadata": {
        "id": "1cX9zL6rlNkg"
      },
      "source": [
        "def lab04_Task7_2018_2_60_079():\n",
        "    df['reading score'].value_counts().plot(kind='hist')\n",
        "lab04_Task7_2018_2_60_079()"
      ]
    },
    {
      "cell_type": "markdown",
      "metadata": {
        "id": "CUkoa_LrlNkg"
      },
      "source": [
        "def lab04_Task7_2018_2_60_079():\n",
        "    df['writing score'].value_counts().plot(kind='hist')\n",
        "lab04_Task7_2018_2_60_079()"
      ]
    },
    {
      "cell_type": "markdown",
      "metadata": {
        "id": "gaHcYfEwlNkg"
      },
      "source": [
        "def lab04_Task8_2018_2_60_079():\n",
        "    x1 = df.loc[df['gender']==0]\n",
        "    y1 = df.loc[df['gender']==1]\n",
        "    z = x1.size*100/df.size\n",
        "    o = y1.size*100/df.size\n",
        "    x2 = [1,2]\n",
        "    y2 = [z,o]\n",
        "    tick_label = ['zero', 'one']\n",
        "    plt.bar(x2,y2,tick_label=tick_label,width= 0.4,color=['green','red'])\n",
        "    plt.xlabel('Gender')\n",
        "    plt.ylabel('Percentage')\n",
        "    plt.show()\n",
        "lab04_Task8_2018_2_60_079()"
      ]
    },
    {
      "cell_type": "markdown",
      "metadata": {
        "id": "0jjnGoFblNkg"
      },
      "source": [
        "def lab04_Task11_2018_2_60_079():\n",
        "     df.plot.scatter(y=['math score'], x=['writing score'])\n",
        "lab04_Task11_2018_2_60_079()"
      ]
    },
    {
      "cell_type": "markdown",
      "metadata": {
        "id": "7lQylI7KlNkg"
      },
      "source": [
        "def lab04_Task10_2018_2_60_079():\n",
        "    corr_matrix = df.corr().abs()\n",
        "    x = corr_matrix.where(np.triu(np.ones(corr_matrix.shape), k = 1)\n",
        "    .astype(np.bool))\n",
        "    to_drop = [column for column in x\n",
        "    .columns if any(x[column] > 0.95)]\n",
        "    df.drop(to_drop, axis = 1, inplace = True)\n",
        "    print(x)\n",
        "lab04_Task10_2018_2_60_079()"
      ]
    },
    {
      "cell_type": "markdown",
      "metadata": {
        "id": "DEvJ5Uo0lNkh"
      },
      "source": [
        "math_Q1=df[['math score']].quantile(0.25)\n",
        "math_Q3=df[['math score']].quantile(0.75)\n",
        "print(df[['math score']].quantile(0.25))\n",
        "print(df[['math score']].mean())\n",
        "print(df[['math score']].quantile(0.75))\n",
        "print(math_Q3-math_Q1)\n",
        "\n",
        "\n",
        "reading_Q1=df[['reading score']].quantile(0.25)\n",
        "reading_Q3=df[['reading score']].quantile(0.75)\n",
        "print(df[['reading score']].quantile(0.25))\n",
        "print(df[['reading score']].mean())\n",
        "print(df[['reading score']].quantile(0.75))\n",
        "print(reading_Q3-reading_Q1)\n",
        "\n",
        "\n",
        "writing_Q1=df[['writing score']].quantile(0.25)\n",
        "writing_Q3=df[['writing score']].quantile(0.75)\n",
        "print(df[['writing score']].quantile(0.25))\n",
        "print(df[['writing score']].mean())\n",
        "print(df[['writing score']].quantile(0.75))\n",
        "print(writing_Q3-writing_Q1)\n",
        "\n",
        "df.boxplot(column=['math score', 'reading score', 'writing score'])"
      ]
    },
    {
      "cell_type": "code",
      "metadata": {
        "colab": {
          "base_uri": "https://localhost:8080/"
        },
        "id": "No1WM8tWlNkh",
        "outputId": "31bab863-d501-4e97-d5fd-8599ef7d24eb"
      },
      "source": [
        "#%% f.correlation analysis of the attributes from the data\n",
        "corr_matrix = df.corr().abs()\n",
        "x = corr_matrix.where(np.triu(np.ones(corr_matrix.shape), k = 1)\n",
        ".astype(np.bool))\n",
        "to_drop = [column for column in x\n",
        ".columns if any(x[column] > 0.95)]\n",
        "df.drop(to_drop, axis = 1, inplace = True)\n",
        "print(x)"
      ],
      "execution_count": 15,
      "outputs": [
        {
          "output_type": "stream",
          "name": "stdout",
          "text": [
            "               gender  math score  reading score  writing score\n",
            "gender            NaN    0.167982       0.244313       0.301225\n",
            "math score        NaN         NaN       0.817580       0.802642\n",
            "reading score     NaN         NaN            NaN       0.954598\n",
            "writing score     NaN         NaN            NaN            NaN\n"
          ]
        }
      ]
    },
    {
      "cell_type": "code",
      "metadata": {
        "colab": {
          "base_uri": "https://localhost:8080/"
        },
        "id": "2sG9WA2_lNkh",
        "outputId": "a5e15c98-71f6-42d4-a09c-d65a3def9453"
      },
      "source": [
        "#%% g. principal component analysis (optional)\n",
        "from sklearn import preprocessing\n",
        "label_encoder = preprocessing.LabelEncoder()\n",
        "df['gender']= label_encoder.fit_transform(df['gender']) \n",
        "print(df.head())"
      ],
      "execution_count": 16,
      "outputs": [
        {
          "output_type": "stream",
          "name": "stdout",
          "text": [
            "   gender race/ethnicity  ... math score reading score\n",
            "0       0        group B  ...         72            72\n",
            "1       0        group C  ...         69            90\n",
            "2       0        group B  ...         90            95\n",
            "3       1        group A  ...         47            57\n",
            "4       1        group C  ...         76            78\n",
            "\n",
            "[5 rows x 7 columns]\n"
          ]
        }
      ]
    },
    {
      "cell_type": "code",
      "metadata": {
        "colab": {
          "base_uri": "https://localhost:8080/"
        },
        "id": "oyvzv019lNkh",
        "outputId": "7b2b4fa4-0bee-405e-8783-4ccfd095cbcf"
      },
      "source": [
        "#%%\n",
        "df['race/ethnicity']= label_encoder.fit_transform(df['race/ethnicity']) \n",
        "print(df.head())"
      ],
      "execution_count": 17,
      "outputs": [
        {
          "output_type": "stream",
          "name": "stdout",
          "text": [
            "   gender  race/ethnicity  ... math score reading score\n",
            "0       0               1  ...         72            72\n",
            "1       0               2  ...         69            90\n",
            "2       0               1  ...         90            95\n",
            "3       1               0  ...         47            57\n",
            "4       1               2  ...         76            78\n",
            "\n",
            "[5 rows x 7 columns]\n"
          ]
        }
      ]
    },
    {
      "cell_type": "code",
      "metadata": {
        "colab": {
          "base_uri": "https://localhost:8080/"
        },
        "id": "WWQNgo3vlNkh",
        "outputId": "2e2d0448-cfae-4c8c-a04e-e180981be864"
      },
      "source": [
        "#%%\n",
        "df['parental level of education']= label_encoder.fit_transform(df['parental level of education']) \n",
        "print(df.head())"
      ],
      "execution_count": 18,
      "outputs": [
        {
          "output_type": "stream",
          "name": "stdout",
          "text": [
            "   gender  race/ethnicity  ...  math score reading score\n",
            "0       0               1  ...          72            72\n",
            "1       0               2  ...          69            90\n",
            "2       0               1  ...          90            95\n",
            "3       1               0  ...          47            57\n",
            "4       1               2  ...          76            78\n",
            "\n",
            "[5 rows x 7 columns]\n"
          ]
        }
      ]
    },
    {
      "cell_type": "code",
      "metadata": {
        "colab": {
          "base_uri": "https://localhost:8080/"
        },
        "id": "FGLWgScHlNki",
        "outputId": "1add1ad4-c99b-4279-99aa-8bdc4b162508"
      },
      "source": [
        "#%%\n",
        "df['lunch']= label_encoder.fit_transform(df['lunch']) \n",
        "print(df.head())"
      ],
      "execution_count": 19,
      "outputs": [
        {
          "output_type": "stream",
          "name": "stdout",
          "text": [
            "   gender  race/ethnicity  ...  math score  reading score\n",
            "0       0               1  ...          72             72\n",
            "1       0               2  ...          69             90\n",
            "2       0               1  ...          90             95\n",
            "3       1               0  ...          47             57\n",
            "4       1               2  ...          76             78\n",
            "\n",
            "[5 rows x 7 columns]\n"
          ]
        }
      ]
    },
    {
      "cell_type": "code",
      "metadata": {
        "colab": {
          "base_uri": "https://localhost:8080/"
        },
        "id": "3StjROo7lNki",
        "outputId": "bc40b931-13ed-4732-fe3b-b0f63a63aefc"
      },
      "source": [
        "#%%\n",
        "df['test preparation course']= label_encoder.fit_transform(df['test preparation course']) \n",
        "print(df.head())"
      ],
      "execution_count": 20,
      "outputs": [
        {
          "output_type": "stream",
          "name": "stdout",
          "text": [
            "   gender  race/ethnicity  ...  math score  reading score\n",
            "0       0               1  ...          72             72\n",
            "1       0               2  ...          69             90\n",
            "2       0               1  ...          90             95\n",
            "3       1               0  ...          47             57\n",
            "4       1               2  ...          76             78\n",
            "\n",
            "[5 rows x 7 columns]\n"
          ]
        }
      ]
    },
    {
      "cell_type": "code",
      "metadata": {
        "colab": {
          "base_uri": "https://localhost:8080/"
        },
        "id": "7-xT52gWlNki",
        "outputId": "57140906-4cb7-4e89-bd2d-a6fc9680390c"
      },
      "source": [
        "#%%\n",
        "from sklearn.preprocessing import StandardScaler\n",
        "scaler=StandardScaler()\n",
        "scaler.fit(df)\n",
        "scaled_data=scaler.transform(df)\n",
        "from sklearn.decomposition import PCA\n",
        "pca=PCA(n_components=2)\n",
        "pca.fit(scaled_data)\n",
        "new_pca=pca.transform(scaled_data)\n",
        "scaled_data.shape\n",
        "new_pca.shape\n",
        "new_pca"
      ],
      "execution_count": 21,
      "outputs": [
        {
          "output_type": "execute_result",
          "data": {
            "text/plain": [
              "array([[-0.30919167,  0.52239266],\n",
              "       [-1.49036784,  1.26275846],\n",
              "       [-1.94995288,  0.69924511],\n",
              "       ...,\n",
              "       [ 0.33438704,  1.68278564],\n",
              "       [-1.13154243,  0.97439725],\n",
              "       [-0.67897673,  1.14649307]])"
            ]
          },
          "metadata": {},
          "execution_count": 21
        }
      ]
    },
    {
      "cell_type": "code",
      "metadata": {
        "colab": {
          "base_uri": "https://localhost:8080/",
          "height": 424
        },
        "id": "xlw9xja9lNki",
        "outputId": "01f2f5b0-af99-40da-85f8-10ddfa9c3fcd"
      },
      "source": [
        "#%%\n",
        "principal_Df = pd.DataFrame(data = new_pca\n",
        "             , columns = ['principal component 1', 'principal component 2'])\n",
        "principal_Df"
      ],
      "execution_count": 22,
      "outputs": [
        {
          "output_type": "execute_result",
          "data": {
            "text/html": [
              "<div>\n",
              "<style scoped>\n",
              "    .dataframe tbody tr th:only-of-type {\n",
              "        vertical-align: middle;\n",
              "    }\n",
              "\n",
              "    .dataframe tbody tr th {\n",
              "        vertical-align: top;\n",
              "    }\n",
              "\n",
              "    .dataframe thead th {\n",
              "        text-align: right;\n",
              "    }\n",
              "</style>\n",
              "<table border=\"1\" class=\"dataframe\">\n",
              "  <thead>\n",
              "    <tr style=\"text-align: right;\">\n",
              "      <th></th>\n",
              "      <th>principal component 1</th>\n",
              "      <th>principal component 2</th>\n",
              "    </tr>\n",
              "  </thead>\n",
              "  <tbody>\n",
              "    <tr>\n",
              "      <th>0</th>\n",
              "      <td>-0.309192</td>\n",
              "      <td>0.522393</td>\n",
              "    </tr>\n",
              "    <tr>\n",
              "      <th>1</th>\n",
              "      <td>-1.490368</td>\n",
              "      <td>1.262758</td>\n",
              "    </tr>\n",
              "    <tr>\n",
              "      <th>2</th>\n",
              "      <td>-1.949953</td>\n",
              "      <td>0.699245</td>\n",
              "    </tr>\n",
              "    <tr>\n",
              "      <th>3</th>\n",
              "      <td>2.272096</td>\n",
              "      <td>-0.440363</td>\n",
              "    </tr>\n",
              "    <tr>\n",
              "      <th>4</th>\n",
              "      <td>-0.728128</td>\n",
              "      <td>-1.244779</td>\n",
              "    </tr>\n",
              "    <tr>\n",
              "      <th>...</th>\n",
              "      <td>...</td>\n",
              "      <td>...</td>\n",
              "    </tr>\n",
              "    <tr>\n",
              "      <th>995</th>\n",
              "      <td>-3.090531</td>\n",
              "      <td>1.007180</td>\n",
              "    </tr>\n",
              "    <tr>\n",
              "      <th>996</th>\n",
              "      <td>1.433105</td>\n",
              "      <td>-0.845393</td>\n",
              "    </tr>\n",
              "    <tr>\n",
              "      <th>997</th>\n",
              "      <td>0.334387</td>\n",
              "      <td>1.682786</td>\n",
              "    </tr>\n",
              "    <tr>\n",
              "      <th>998</th>\n",
              "      <td>-1.131542</td>\n",
              "      <td>0.974397</td>\n",
              "    </tr>\n",
              "    <tr>\n",
              "      <th>999</th>\n",
              "      <td>-0.678977</td>\n",
              "      <td>1.146493</td>\n",
              "    </tr>\n",
              "  </tbody>\n",
              "</table>\n",
              "<p>1000 rows × 2 columns</p>\n",
              "</div>"
            ],
            "text/plain": [
              "     principal component 1  principal component 2\n",
              "0                -0.309192               0.522393\n",
              "1                -1.490368               1.262758\n",
              "2                -1.949953               0.699245\n",
              "3                 2.272096              -0.440363\n",
              "4                -0.728128              -1.244779\n",
              "..                     ...                    ...\n",
              "995              -3.090531               1.007180\n",
              "996               1.433105              -0.845393\n",
              "997               0.334387               1.682786\n",
              "998              -1.131542               0.974397\n",
              "999              -0.678977               1.146493\n",
              "\n",
              "[1000 rows x 2 columns]"
            ]
          },
          "metadata": {},
          "execution_count": 22
        }
      ]
    },
    {
      "cell_type": "code",
      "metadata": {
        "colab": {
          "base_uri": "https://localhost:8080/"
        },
        "id": "ltsbzuE0lNki",
        "outputId": "4e7fde72-c176-41a3-f830-4847726ded50"
      },
      "source": [
        "#%%\n",
        "print('Explained variation per principal component: {}'.format(pca.explained_variance_ratio_))\n"
      ],
      "execution_count": 23,
      "outputs": [
        {
          "output_type": "stream",
          "name": "stdout",
          "text": [
            "Explained variation per principal component: [0.30316606 0.15925879]\n"
          ]
        }
      ]
    },
    {
      "cell_type": "code",
      "metadata": {
        "colab": {
          "base_uri": "https://localhost:8080/",
          "height": 754
        },
        "id": "z98GeuiplNkj",
        "outputId": "f8d142e0-cc6e-476f-93db-4003e67f23dc"
      },
      "source": [
        "#%% h. linear regression (optional)\n",
        "import pandas as pd\n",
        "import numpy as np\n",
        "import matplotlib.pyplot as plt\n",
        "from sklearn.model_selection import train_test_split\n",
        "from sklearn.linear_model import LinearRegression\n",
        "from sklearn import metrics\n",
        "df = pd.read_csv('strange.csv')\n",
        "\n",
        "df.head()\n",
        "df.info()\n",
        "\n",
        "print(df.describe())\n",
        "\n",
        "print ('Number of rows: ', df.shape[0])\n",
        "print ('Number of columns: ', df.shape[1])\n",
        "x = df[['reading score', 'writing score']].values\n",
        "y = df['math score'].values\n",
        "x_train, x_test, y_train, y_test = train_test_split(x,y, test_size=0.2, random_state=1)\n",
        "regressor = LinearRegression()\n",
        "regressor.fit(x_train, y_train)\n",
        "print(regressor.coef_)\n",
        "predicted = regressor.predict(x_test)\n",
        "df2 = pd.DataFrame({'Actual': y_test.flatten(), 'Predicted' : predicted.flatten()})\n",
        "df2.head(25)\n",
        "graph = df2.head(15)\n",
        "graph.plot(kind='bar')\n"
      ],
      "execution_count": 24,
      "outputs": [
        {
          "output_type": "stream",
          "name": "stdout",
          "text": [
            "<class 'pandas.core.frame.DataFrame'>\n",
            "RangeIndex: 1000 entries, 0 to 999\n",
            "Data columns (total 8 columns):\n",
            " #   Column                       Non-Null Count  Dtype \n",
            "---  ------                       --------------  ----- \n",
            " 0   gender                       1000 non-null   object\n",
            " 1   race/ethnicity               1000 non-null   object\n",
            " 2   parental level of education  1000 non-null   object\n",
            " 3   lunch                        1000 non-null   object\n",
            " 4   test preparation course      1000 non-null   object\n",
            " 5   math score                   1000 non-null   int64 \n",
            " 6   reading score                1000 non-null   int64 \n",
            " 7   writing score                1000 non-null   int64 \n",
            "dtypes: int64(3), object(5)\n",
            "memory usage: 62.6+ KB\n",
            "       math score  reading score  writing score\n",
            "count  1000.00000    1000.000000    1000.000000\n",
            "mean     66.08900      69.169000      68.054000\n",
            "std      15.16308      14.600192      15.195657\n",
            "min       0.00000      17.000000      10.000000\n",
            "25%      57.00000      59.000000      57.750000\n",
            "50%      66.00000      70.000000      69.000000\n",
            "75%      77.00000      79.000000      79.000000\n",
            "max     100.00000     100.000000     100.000000\n",
            "Number of rows:  1000\n",
            "Number of columns:  8\n",
            "[0.60088091 0.23727107]\n"
          ]
        },
        {
          "output_type": "execute_result",
          "data": {
            "text/plain": [
              "<matplotlib.axes._subplots.AxesSubplot at 0x7f1992ba5ed0>"
            ]
          },
          "metadata": {},
          "execution_count": 24
        },
        {
          "output_type": "display_data",
          "data": {
            "image/png": "[encoded data removed]",
            "text/plain": [
              "<Figure size 432x288 with 1 Axes>"
            ]
          },
          "metadata": {
            "needs_background": "light"
          }
        }
      ]
    },
    {
      "cell_type": "markdown",
      "metadata": {
        "id": "lcHrZzKQlNkj"
      },
      "source": [
        "Group members/Contributors:\n",
        "\n",
        "1. Md. Salem Talukder (2018-2-60-077)\n",
        "2. Mehedi Hasan Tarek (2018-2-60-079)\n",
        "3. Sinthia Sarkar Ananna.(2018-3-60-101)"
      ]
    }
  ]
}