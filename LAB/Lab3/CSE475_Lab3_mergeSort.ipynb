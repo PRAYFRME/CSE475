{
  "nbformat": 4,
  "nbformat_minor": 0,
  "metadata": {
    "colab": {
      "name": "CSE475_Lab3_mergeSort.ipynb",
      "provenance": [],
      "collapsed_sections": []
    },
    "kernelspec": {
      "name": "python3",
      "display_name": "Python 3"
    },
    "language_info": {
      "name": "python"
    }
  },
  "cells": [
    {
      "cell_type": "code",
      "metadata": {
        "id": "jVFZ8C8CskZw",
        "colab": {
          "base_uri": "https://localhost:8080/"
        },
        "outputId": "f2529518-908d-4fb1-ae15-d37f13da623c"
      },
      "source": [
        "#CSE-475 (Fall 2021): Lab\n",
        "#Lab 03. Lab Task 2. \n",
        "#Say you are given a list of unordered numbers.\n",
        "#Your task is to write a python program to sort the number in ascending order using merge sort.\n",
        "#You must show the output of each step of divide and conquer.\n",
        "#Mehedi Hasan Tarek(2018-2-60-079)\n",
        "\n",
        "def mergeSort(array):\n",
        "    if len(array) > 1:\n",
        "        mid = len(array)//2\n",
        "        leftSize = array[:mid]\n",
        "        rightSize = array[mid:]\n",
        "\n",
        "        mergeSort(rightSize)\n",
        "        mergeSort(leftSize)\n",
        "        \n",
        "        i = j = k = 0\n",
        "\n",
        "        while i < len(leftSize) and j < len(rightSize):\n",
        "            if leftSize[i] < rightSize[j]:\n",
        "                array[k]=leftSize[i]\n",
        "                i += 1\n",
        "            else:\n",
        "                array[k] = rightSize[j]\n",
        "                j += 1\n",
        "            k += 1\n",
        "\n",
        "        while i < len(leftSize):\n",
        "                array[k] = leftSize[i]\n",
        "                i += 1\n",
        "                k += 1\n",
        "\n",
        "        while j < len(rightSize):\n",
        "                array[k]=rightSize[j]\n",
        "                j += 1\n",
        "                k += 1\n",
        "               \n",
        "array = [3, 2, 6, 4, 5, 8, 1, 7]\n",
        "mergeSort(array)\n",
        "print(array)"
      ],
      "execution_count": 7,
      "outputs": [
        {
          "output_type": "stream",
          "name": "stdout",
          "text": [
            "[1, 2, 3, 4, 5, 6, 7, 8]\n"
          ]
        }
      ]
    }
  ]
}